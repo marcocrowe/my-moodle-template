{
 "cells": [
  {
   "cell_type": "markdown",
   "metadata": {},
   "source": [
    "# [My Moodle](https://github.com/marcocrowe/my-moodle-template \"My Moodle\")"
   ]
  },
  {
   "cell_type": "markdown",
   "metadata": {},
   "source": [
    "<!--\n",
    "import data_analytics.github as github\n",
    "print(github.create_jupyter_notebook_header(\"marcocrowe\", \"my-moodle-template\", \"notebooks-main.ipynb\", \"master\"))\n",
    "-->\n",
    "<table style=\"margin: auto;\"><tr><td><a href=\"https://mybinder.org/v2/gh/marcocrowe/my-moodle-template/master?filepath=notebooks-main.ipynb\" target=\"_parent\"><img src=\"https://mybinder.org/badge_logo.svg\" alt=\"Open In Binder\"/></a></td><td>online editors</td><td><a href=\"https://colab.research.google.com/github/marcocrowe/my-moodle-template/blob/master/notebooks-main.ipynb\" target=\"_parent\"><img src=\"https://colab.research.google.com/assets/colab-badge.svg\" alt=\"Open In Colab\"/></a></td></tr></table>"
   ]
  },
  {
   "cell_type": "markdown",
   "metadata": {},
   "source": [
    "## Setup"
   ]
  },
  {
   "cell_type": "markdown",
   "metadata": {},
   "source": [
    "Import required third party Python libraries, import supporting functions and sets up data source file paths."
   ]
  },
  {
   "cell_type": "code",
   "execution_count": null,
   "metadata": {},
   "outputs": [],
   "source": [
    "# Local: Uncomment the following line to install the requirements locally\n",
    "# %pip install -r requirements.txt\n",
    "# Remote: Uncomment the following line to install the requirements from the remote repository\n",
    "# %pip install -r https://raw.githubusercontent.com/marcocrowe/my-moodle-template/requirements.txt\n",
    "# Options: --quiet --user"
   ]
  },
  {
   "cell_type": "markdown",
   "metadata": {},
   "source": [
    "## Moodle Data Downloader - Import and Configuration"
   ]
  },
  {
   "cell_type": "code",
   "execution_count": null,
   "metadata": {},
   "outputs": [],
   "source": [
    "from my_moodle import (\n",
    "    __version__,\n",
    "    ConfigUtility,\n",
    "    CourseStatus,\n",
    "    MoodleDataDownloader,\n",
    "    MoodleDataUtility,\n",
    "\n",
    ")\n",
    "\n",
    "print(f\"Using my_moodle version: {__version__}\")\n",
    "\n",
    "config_file: str = \"config.ini\"\n",
    "program, server, token = ConfigUtility.check_and_read_config(config_file)\n",
    "\n",
    "moodle_data_downloader: MoodleDataDownloader = MoodleDataDownloader(\n",
    "    program, server, token, data_dir=\"\", debug=True\n",
    ")"
   ]
  },
  {
   "cell_type": "markdown",
   "metadata": {},
   "source": [
    "## Download Moodle Course Data"
   ]
  },
  {
   "cell_type": "code",
   "execution_count": null,
   "metadata": {},
   "outputs": [],
   "source": [
    "courses: list = moodle_data_downloader.download_courses()"
   ]
  },
  {
   "cell_type": "markdown",
   "metadata": {},
   "source": [
    "### Courses"
   ]
  },
  {
   "cell_type": "code",
   "execution_count": null,
   "metadata": {},
   "outputs": [],
   "source": [
    "MoodleDataUtility.courses_json_to_html(courses=courses)"
   ]
  },
  {
   "cell_type": "markdown",
   "metadata": {},
   "source": [
    "### Courses: Active"
   ]
  },
  {
   "cell_type": "code",
   "execution_count": null,
   "metadata": {},
   "outputs": [],
   "source": [
    "active_courses: list = MoodleDataUtility.get_courses_by_status(\n",
    "    courses, CourseStatus.ACTIVE\n",
    ")\n",
    "\n",
    "MoodleDataUtility.courses_json_to_html(active_courses)"
   ]
  },
  {
   "cell_type": "markdown",
   "metadata": {},
   "source": [
    "### Courses: Favourite"
   ]
  },
  {
   "cell_type": "code",
   "execution_count": null,
   "metadata": {},
   "outputs": [],
   "source": [
    "favourite_courses: list = MoodleDataUtility.get_courses_favoured(courses)\n",
    "MoodleDataUtility.courses_json_to_html(favourite_courses)"
   ]
  },
  {
   "cell_type": "markdown",
   "metadata": {},
   "source": [
    "### Download all course data"
   ]
  },
  {
   "cell_type": "code",
   "execution_count": null,
   "metadata": {},
   "outputs": [],
   "source": [
    "moodle_data_downloader.download_my_data()"
   ]
  },
  {
   "cell_type": "markdown",
   "metadata": {},
   "source": [
    "Template Author <a href=\"https://github.com/marcocrowe-com\" target=\"_parent\">Mark Crowe</a> &copy; 2024. All rights reserved."
   ]
  }
 ],
 "metadata": {
  "kernelspec": {
   "display_name": "Python 3 (ipykernel)",
   "language": "python",
   "name": "python3"
  },
  "language_info": {
   "codemirror_mode": {
    "name": "ipython",
    "version": 3
   },
   "file_extension": ".py",
   "mimetype": "text/x-python",
   "name": "python",
   "nbconvert_exporter": "python",
   "pygments_lexer": "ipython3",
   "version": "3.11.5"
  }
 },
 "nbformat": 4,
 "nbformat_minor": 2
}
