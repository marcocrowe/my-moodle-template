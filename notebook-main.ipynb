{
 "cells": [
  {
   "cell_type": "markdown",
   "metadata": {},
   "source": [
    "# [My Moodle](https://github.com/marcocrowe/my-moodle-template \"My Moodle\")"
   ]
  },
  {
   "cell_type": "markdown",
   "metadata": {},
   "source": [
    "## Setup"
   ]
  },
  {
   "cell_type": "markdown",
   "metadata": {},
   "source": [
    "Import required third party Python libraries, import supporting functions and sets up data source file paths."
   ]
  },
  {
   "cell_type": "code",
   "execution_count": null,
   "metadata": {},
   "outputs": [],
   "source": [
    "try: # Ensure the my_moodle package is installed\n",
    "    from my_moodle import NotebookUtility\n",
    "except ImportError:\n",
    "    print(\"my_moodle is not installed. Installing now...\")\n",
    "    %pip install my_moodle\n",
    "    from my_moodle import NotebookUtility"
   ]
  },
  {
   "cell_type": "code",
   "execution_count": null,
   "metadata": {},
   "outputs": [],
   "source": [
    "NotebookUtility.display_jupyter_notebook_header(\n",
    "    github_username=\"marcocrowe\",  # TODO: Change this to your GitHub username\n",
    "    repository=\"my-moodle-template\",  # TODO: Change this to your repository name\n",
    ")"
   ]
  },
  {
   "cell_type": "markdown",
   "metadata": {},
   "source": [
    "## Moodle Data Downloader - Import and Configuration"
   ]
  },
  {
   "cell_type": "markdown",
   "metadata": {},
   "source": [
    "The code in the cell below imports the required Python libraries and sets up the data source file paths. It then creates a [config.ini](config.ini) file to store the configuration settings.  In the event your configuration settings change, you can edit the [config.ini](config.ini) file manually or delete [config.ini](config.ini) and re-run the code cell below to create a new [config.ini](config.ini) file."
   ]
  },
  {
   "cell_type": "code",
   "execution_count": null,
   "metadata": {},
   "outputs": [],
   "source": [
    "from os import getcwd\n",
    "from IPython.display import Markdown\n",
    "from my_moodle import ConfigUtility, CourseStatus, DataUtility, MoodleDataDownloader\n",
    "\n",
    "MoodleDataDownloader.display_version()\n",
    "program, server, token = ConfigUtility.check_and_read_config()\n",
    "moodle_data_downloader = MoodleDataDownloader(program, server, token, getcwd())"
   ]
  },
  {
   "cell_type": "markdown",
   "metadata": {},
   "source": [
    "## Download Moodle Course Data"
   ]
  },
  {
   "cell_type": "code",
   "execution_count": null,
   "metadata": {},
   "outputs": [],
   "source": [
    "courses: list = moodle_data_downloader.download_my_json_data()\n",
    "active_courses: list = DataUtility.get_courses_by_status(courses, CourseStatus.ACTIVE)\n",
    "favourite_courses: list = DataUtility.get_courses_favoured(courses)"
   ]
  },
  {
   "cell_type": "markdown",
   "metadata": {},
   "source": [
    "### Courses"
   ]
  },
  {
   "cell_type": "code",
   "execution_count": null,
   "metadata": {},
   "outputs": [],
   "source": [
    "display(Markdown(\"### All Courses\"))\n",
    "display(DataUtility.courses_json_to_html(courses=courses))\n",
    "display(Markdown(\"### Active Courses\"))\n",
    "display(DataUtility.courses_json_to_html(active_courses))\n",
    "display(Markdown(\"### Favourite Courses\"))\n",
    "DataUtility.courses_json_to_html(favourite_courses)"
   ]
  },
  {
   "cell_type": "markdown",
   "metadata": {},
   "source": [
    "### Download all course data"
   ]
  },
  {
   "cell_type": "code",
   "execution_count": null,
   "metadata": {},
   "outputs": [],
   "source": [
    "_ = moodle_data_downloader.download_my_data()"
   ]
  },
  {
   "cell_type": "markdown",
   "metadata": {},
   "source": [
    "Template Author <a href=\"https://github.com/marcocrowe\" target=\"_parent\">Mark Crowe</a> &copy; 2024. All rights reserved."
   ]
  }
 ],
 "metadata": {
  "kernelspec": {
   "display_name": "Python 3 (ipykernel)",
   "language": "python",
   "name": "python3"
  },
  "language_info": {
   "codemirror_mode": {
    "name": "ipython",
    "version": 3
   },
   "file_extension": ".py",
   "mimetype": "text/x-python",
   "name": "python",
   "nbconvert_exporter": "python",
   "pygments_lexer": "ipython3",
   "version": "3.11.5"
  }
 },
 "nbformat": 4,
 "nbformat_minor": 2
}
