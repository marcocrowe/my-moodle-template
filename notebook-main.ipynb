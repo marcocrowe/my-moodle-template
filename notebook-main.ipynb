{
 "cells": [
  {
   "cell_type": "markdown",
   "metadata": {},
   "source": [
    "# [My Moodle](https://github.com/marcocrowe/my-moodle-template \"My Moodle\")"
   ]
  },
  {
   "cell_type": "markdown",
   "metadata": {},
   "source": [
    "<!--\n",
    "import data_analytics.github as github\n",
    "print(github.create_jupyter_notebook_header(\"marcocrowe\", \"my-moodle-template\", \"notebooks-main.ipynb\", \"master\"))\n",
    "-->\n",
    "<table style=\"margin: auto;\"><tr><td><a href=\"https://mybinder.org/v2/gh/marcocrowe/my-moodle-template/master?filepath=notebooks-main.ipynb\" target=\"_parent\"><img src=\"https://mybinder.org/badge_logo.svg\" alt=\"Open In Binder\"/></a></td><td>online editors</td><td><a href=\"https://colab.research.google.com/github/marcocrowe/my-moodle-template/blob/master/notebooks-main.ipynb\" target=\"_parent\"><img src=\"https://colab.research.google.com/assets/colab-badge.svg\" alt=\"Open In Colab\"/></a></td></tr></table>"
   ]
  },
  {
   "cell_type": "markdown",
   "metadata": {},
   "source": [
    "## Setup"
   ]
  },
  {
   "cell_type": "markdown",
   "metadata": {},
   "source": [
    "Import required third party Python libraries, import supporting functions and sets up data source file paths.\n",
    "\n",
    "*Uncomment either the Local or Remote setup cell below and run the cell below to install required libraries.*"
   ]
  },
  {
   "cell_type": "code",
   "execution_count": null,
   "metadata": {},
   "outputs": [],
   "source": [
    "# Local: Uncomment the following line to install the requirements locally\n",
    "# %pip install -r requirements.txt\n",
    "# Remote: Uncomment the following line to install the requirements from the remote repository\n",
    "# %pip install -r https://raw.githubusercontent.com/marcocrowe/my-moodle-template/requirements.txt\n",
    "# Options: --quiet --user"
   ]
  },
  {
   "cell_type": "markdown",
   "metadata": {},
   "source": [
    "## Moodle Data Downloader - Import and Configuration"
   ]
  },
  {
   "cell_type": "code",
   "execution_count": null,
   "metadata": {},
   "outputs": [],
   "source": [
    "from os import getcwd\n",
    "from IPython.display import Markdown\n",
    "from my_moodle import ConfigUtility, CourseStatus, DataUtility, MoodleDataDownloader\n",
    "\n",
    "MoodleDataDownloader.display_version()\n",
    "program, server, token = ConfigUtility.check_and_read_config()\n",
    "moodle_data_downloader = MoodleDataDownloader(program, server, token, getcwd())"
   ]
  },
  {
   "cell_type": "markdown",
   "metadata": {},
   "source": [
    "## Download Moodle Course Data"
   ]
  },
  {
   "cell_type": "code",
   "execution_count": null,
   "metadata": {},
   "outputs": [],
   "source": [
    "courses: list = moodle_data_downloader.download_my_json_data()\n",
    "active_courses: list = DataUtility.get_courses_by_status(courses, CourseStatus.ACTIVE)\n",
    "favourite_courses: list = DataUtility.get_courses_favoured(courses)"
   ]
  },
  {
   "cell_type": "markdown",
   "metadata": {},
   "source": [
    "### Courses"
   ]
  },
  {
   "cell_type": "code",
   "execution_count": null,
   "metadata": {},
   "outputs": [],
   "source": [
    "display(Markdown(\"### All Courses\"))\n",
    "display(DataUtility.courses_json_to_html(courses=courses))\n",
    "display(Markdown(\"### Active Courses\"))\n",
    "display(DataUtility.courses_json_to_html(active_courses))\n",
    "display(Markdown(\"### Favourite Courses\"))\n",
    "DataUtility.courses_json_to_html(favourite_courses)"
   ]
  },
  {
   "cell_type": "markdown",
   "metadata": {},
   "source": [
    "### Download all course data"
   ]
  },
  {
   "cell_type": "code",
   "execution_count": null,
   "metadata": {},
   "outputs": [],
   "source": [
    "moodle_data_downloader.download_my_data()"
   ]
  },
  {
   "cell_type": "markdown",
   "metadata": {},
   "source": [
    "Template Author <a href=\"https://github.com/marcocrowe\" target=\"_parent\">Mark Crowe</a> &copy; 2024. All rights reserved."
   ]
  }
 ],
 "metadata": {
  "kernelspec": {
   "display_name": "Python 3 (ipykernel)",
   "language": "python",
   "name": "python3"
  },
  "language_info": {
   "codemirror_mode": {
    "name": "ipython",
    "version": 3
   },
   "file_extension": ".py",
   "mimetype": "text/x-python",
   "name": "python",
   "nbconvert_exporter": "python",
   "pygments_lexer": "ipython3",
   "version": "3.11.5"
  }
 },
 "nbformat": 4,
 "nbformat_minor": 2
}
