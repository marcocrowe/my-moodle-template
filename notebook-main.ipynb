{
 "cells": [
  {
   "cell_type": "markdown",
   "metadata": {},
   "source": [
    "# [My Moodle](https://github.com/marcocrowe/my-moodle-template \"My Moodle\")"
   ]
  },
  {
   "cell_type": "markdown",
   "metadata": {},
   "source": [
    "## Setup"
   ]
  },
  {
   "cell_type": "markdown",
   "metadata": {},
   "source": [
    "Import required third party Python libraries, import supporting functions and sets up data source file paths."
   ]
  },
  {
   "cell_type": "code",
   "execution_count": 1,
   "metadata": {},
   "outputs": [],
   "source": [
    "try: # Ensure the my_moodle package is installed\n",
    "    from my_moodle import NotebookUtility\n",
    "except ImportError:\n",
    "    print(\"my_moodle is not installed. Installing now...\")\n",
    "    %pip install my_moodle\n",
    "    from my_moodle import NotebookUtility"
   ]
  },
  {
   "cell_type": "code",
   "execution_count": 2,
   "metadata": {},
   "outputs": [
    {
     "data": {
      "text/html": [
       "<!--\r\n",
       "import data_analytics.github as github\r\n",
       "print(github.create_jupyter_notebook_header(\"marcocrowe\", \"my-moodle-template\", \"notebook-main.ipynb\", \"master\"))\r\n",
       "-->\r\n",
       "<table style=\"margin: auto;\"><tr><td><a href=\"https://mybinder.org/v2/gh/marcocrowe/my-moodle-template/master?filepath=notebook-main.ipynb\" target=\"_parent\"><img src=\"https://mybinder.org/badge_logo.svg\" alt=\"Open In Binder\"/></a></td><td>online editors</td><td><a href=\"https://colab.research.google.com/github/marcocrowe/my-moodle-template/blob/master/notebook-main.ipynb\" target=\"_parent\"><img src=\"https://colab.research.google.com/assets/colab-badge.svg\" alt=\"Open In Colab\"/></a></td></tr></table>"
      ],
      "text/plain": [
       "<IPython.core.display.HTML object>"
      ]
     },
     "execution_count": 2,
     "metadata": {},
     "output_type": "execute_result"
    }
   ],
   "source": [
    "from IPython.display import HTML\n",
    "\n",
    "HTML(\n",
    "    NotebookUtility.create_jupyter_notebook_header(\n",
    "        github_username=\"marcocrowe\",  # TODO: Change this to your GitHub username\n",
    "        repository=\"my-moodle-template\",  # TODO: Change this to your repository name\n",
    "    )\n",
    ")"
   ]
  },
  {
   "cell_type": "markdown",
   "metadata": {},
   "source": [
    "## Moodle Data Downloader - Import and Configuration"
   ]
  },
  {
   "cell_type": "markdown",
   "metadata": {},
   "source": [
    "The code in the cell below imports the required Python libraries and sets up the data source file paths. It then creates a [config.ini](config.ini) file to store the configuration settings.  In the event your configuration settings change, you can edit the [config.ini](config.ini) file manually or delete [config.ini](config.ini) and re-run the code cell below to create a new [config.ini](config.ini) file."
   ]
  },
  {
   "cell_type": "code",
   "execution_count": 3,
   "metadata": {},
   "outputs": [
    {
     "name": "stdout",
     "output_type": "stream",
     "text": [
      "Using my_moodle Version: 0.4.6\n"
     ]
    }
   ],
   "source": [
    "from os import getcwd\n",
    "from IPython.display import Markdown, HTML\n",
    "from my_moodle import ConfigUtility, CourseStatus, DataUtility, MoodleDataDownloader\n",
    "\n",
    "MoodleDataDownloader.display_version()\n",
    "program, server, token = ConfigUtility.check_and_read_config()\n",
    "moodle_data_downloader = MoodleDataDownloader(program, server, token, getcwd())"
   ]
  },
  {
   "cell_type": "markdown",
   "metadata": {},
   "source": [
    "## Download Moodle Course Data"
   ]
  },
  {
   "cell_type": "code",
   "execution_count": 4,
   "metadata": {},
   "outputs": [
    {
     "name": "stdout",
     "output_type": "stream",
     "text": [
      "Download json data ...\n"
     ]
    }
   ],
   "source": [
    "courses: list = moodle_data_downloader.download_my_json_data()\n",
    "active_courses: list = DataUtility.get_courses_by_status(courses, CourseStatus.ACTIVE)\n",
    "favourite_courses: list = DataUtility.get_courses_favoured(courses)"
   ]
  },
  {
   "cell_type": "markdown",
   "metadata": {},
   "source": [
    "### Courses"
   ]
  },
  {
   "cell_type": "code",
   "execution_count": 5,
   "metadata": {},
   "outputs": [
    {
     "data": {
      "text/markdown": [
       "### All Courses"
      ],
      "text/plain": [
       "<IPython.core.display.Markdown object>"
      ]
     },
     "metadata": {},
     "output_type": "display_data"
    },
    {
     "data": {
      "text/html": [
       "<table border=\"1\" class=\"dataframe\">\n",
       "<thead>\n",
       "<tr style=\"text-align: right;\">\n",
       "<th style=\"text-align: center;\">id</th>\n",
       "<th style=\"text-align: center;\">fullname</th>\n",
       "<th style=\"text-align: center;\">viewurl</th>\n",
       "</tr>\n",
       "</thead>\n",
       "<tbody>\n",
       "<tr>\n",
       "<td>&nbsp;</td>\n",
       "<td style=\"text-align: left;\">&nbsp;</td>\n",
       "<td>&nbsp;</td>\n",
       "</tr>\n",
       "</tbody>\n",
       "</table>"
      ],
      "text/plain": [
       "<IPython.core.display.HTML object>"
      ]
     },
     "metadata": {},
     "output_type": "display_data"
    },
    {
     "data": {
      "text/markdown": [
       "### Active Courses"
      ],
      "text/plain": [
       "<IPython.core.display.Markdown object>"
      ]
     },
     "metadata": {},
     "output_type": "display_data"
    },
    {
     "data": {
      "text/html": [
       "<table border=\"1\" class=\"dataframe\">\n",
       "<thead>\n",
       "<tr style=\"text-align: right;\">\n",
       "<th style=\"text-align: center;\">id</th>\n",
       "<th style=\"text-align: center;\">fullname</th>\n",
       "<th style=\"text-align: center;\">viewurl</th>\n",
       "</tr>\n",
       "</thead>\n",
       "<tbody>\n",
       "<tr>\n",
       "<td>&nbsp;</td>\n",
       "<td style=\"text-align: left;\">&nbsp;</td>\n",
       "<td>&nbsp;</td>\n",
       "</tr>\n",
       "</tbody>\n",
       "</table>"
      ],
      "text/plain": [
       "<IPython.core.display.HTML object>"
      ]
     },
     "metadata": {},
     "output_type": "display_data"
    },
    {
     "data": {
      "text/markdown": [
       "### Favourite Courses"
      ],
      "text/plain": [
       "<IPython.core.display.Markdown object>"
      ]
     },
     "metadata": {},
     "output_type": "display_data"
    },
    {
     "data": {
      "text/html": [
       "<table border=\"1\" class=\"dataframe\">\n",
       "<thead>\n",
       "<tr style=\"text-align: right;\">\n",
       "<th style=\"text-align: center;\">id</th>\n",
       "<th style=\"text-align: center;\">fullname</th>\n",
       "<th style=\"text-align: center;\">viewurl</th>\n",
       "</tr>\n",
       "</thead>\n",
       "<tbody>\n",
       "<tr>\n",
       "<td>&nbsp;</td>\n",
       "<td style=\"text-align: left;\">&nbsp;</td>\n",
       "<td>&nbsp;</td>\n",
       "</tr>\n",
       "</tbody>\n",
       "</table>"
      ],
      "text/plain": [
       "<IPython.core.display.HTML object>"
      ]
     },
     "metadata": {},
     "output_type": "display_data"
    }
   ],
   "source": [
    "display(Markdown(\"### All Courses\"))\n",
    "display(HTML(DataUtility.courses_json_to_html(courses)))\n",
    "display(Markdown(\"### Active Courses\"))\n",
    "display(HTML(DataUtility.courses_json_to_html(active_courses)))\n",
    "display(Markdown(\"### Favourite Courses\"))\n",
    "display(HTML(DataUtility.courses_json_to_html(favourite_courses)))"
   ]
  },
  {
   "cell_type": "markdown",
   "metadata": {},
   "source": [
    "### Download all course data"
   ]
  },
  {
   "cell_type": "code",
   "execution_count": 6,
   "metadata": {},
   "outputs": [
    {
     "name": "stdout",
     "output_type": "stream",
     "text": [
      "Download my data - Updating\n",
      "An error occurred. Please try again.\n",
      "You can log a issue on GitHub.\n",
      "https://github.com/marcocrowe/my-moodle-template/issues\n"
     ]
    }
   ],
   "source": [
    "_ = moodle_data_downloader.download_my_data()"
   ]
  },
  {
   "cell_type": "markdown",
   "metadata": {},
   "source": [
    "Template Author <a href=\"https://github.com/marcocrowe\" target=\"_parent\">Mark Crowe</a> &copy; 2024. All rights reserved."
   ]
  }
 ],
 "metadata": {
  "kernelspec": {
   "display_name": "Python 3 (ipykernel)",
   "language": "python",
   "name": "python3"
  },
  "language_info": {
   "codemirror_mode": {
    "name": "ipython",
    "version": 3
   },
   "file_extension": ".py",
   "mimetype": "text/x-python",
   "name": "python",
   "nbconvert_exporter": "python",
   "pygments_lexer": "ipython3",
   "version": "3.11.5"
  }
 },
 "nbformat": 4,
 "nbformat_minor": 2
}
